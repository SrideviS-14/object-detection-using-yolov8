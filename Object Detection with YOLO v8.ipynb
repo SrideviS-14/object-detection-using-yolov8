{
 "cells": [
  {
   "cell_type": "code",
   "execution_count": 1,
   "id": "b31be0b6",
   "metadata": {},
   "outputs": [
    {
     "name": "stdout",
     "output_type": "stream",
     "text": [
      "Requirement already satisfied: opencv-python in c:\\users\\91984\\anaconda3\\lib\\site-packages (4.9.0.80)\n",
      "Requirement already satisfied: numpy>=1.21.2 in c:\\users\\91984\\anaconda3\\lib\\site-packages (from opencv-python) (1.24.3)\n"
     ]
    }
   ],
   "source": [
    "!pip install opencv-python"
   ]
  },
  {
   "cell_type": "code",
   "execution_count": 2,
   "id": "b2c8b3e9",
   "metadata": {},
   "outputs": [
    {
     "name": "stdout",
     "output_type": "stream",
     "text": [
      "Requirement already satisfied: pyttsx3 in c:\\users\\91984\\anaconda3\\lib\\site-packages (2.90)\n",
      "Requirement already satisfied: comtypes in c:\\users\\91984\\anaconda3\\lib\\site-packages (from pyttsx3) (1.2.1)\n",
      "Requirement already satisfied: pypiwin32 in c:\\users\\91984\\anaconda3\\lib\\site-packages (from pyttsx3) (223)\n",
      "Requirement already satisfied: pywin32 in c:\\users\\91984\\anaconda3\\lib\\site-packages (from pyttsx3) (305.1)\n"
     ]
    }
   ],
   "source": [
    "!pip install pyttsx3"
   ]
  },
  {
   "cell_type": "code",
   "execution_count": 2,
   "id": "9e6735fa",
   "metadata": {},
   "outputs": [],
   "source": [
    "from ultralytics import YOLO\n",
    "import cv2\n",
    "import pyttsx3"
   ]
  },
  {
   "cell_type": "code",
   "execution_count": 3,
   "id": "11891798",
   "metadata": {},
   "outputs": [
    {
     "name": "stdout",
     "output_type": "stream",
     "text": [
      "\n",
      "0: 480x640 1 person, 326.3ms\n",
      "Speed: 7.8ms preprocess, 326.3ms inference, 5.0ms postprocess per image at shape (1, 3, 480, 640)\n",
      "Results saved to \u001b[1mruns\\detect\\predict18\u001b[0m\n",
      "\n",
      "0: 480x640 1 person, 167.5ms\n",
      "Speed: 3.0ms preprocess, 167.5ms inference, 2.0ms postprocess per image at shape (1, 3, 480, 640)\n",
      "Results saved to \u001b[1mruns\\detect\\predict18\u001b[0m\n",
      "\n",
      "0: 480x640 1 person, 169.6ms\n",
      "Speed: 3.0ms preprocess, 169.6ms inference, 2.0ms postprocess per image at shape (1, 3, 480, 640)\n",
      "Results saved to \u001b[1mruns\\detect\\predict18\u001b[0m\n",
      "\n",
      "0: 480x640 1 person, 194.3ms\n",
      "Speed: 4.4ms preprocess, 194.3ms inference, 2.0ms postprocess per image at shape (1, 3, 480, 640)\n",
      "Results saved to \u001b[1mruns\\detect\\predict18\u001b[0m\n",
      "\n",
      "0: 480x640 1 person, 158.5ms\n",
      "Speed: 2.0ms preprocess, 158.5ms inference, 3.0ms postprocess per image at shape (1, 3, 480, 640)\n",
      "Results saved to \u001b[1mruns\\detect\\predict18\u001b[0m\n",
      "\n",
      "0: 480x640 1 person, 152.9ms\n",
      "Speed: 2.3ms preprocess, 152.9ms inference, 2.0ms postprocess per image at shape (1, 3, 480, 640)\n",
      "Results saved to \u001b[1mruns\\detect\\predict18\u001b[0m\n",
      "\n",
      "0: 480x640 1 person, 149.5ms\n",
      "Speed: 2.0ms preprocess, 149.5ms inference, 2.0ms postprocess per image at shape (1, 3, 480, 640)\n",
      "Results saved to \u001b[1mruns\\detect\\predict18\u001b[0m\n",
      "\n",
      "0: 480x640 2 persons, 1 bottle, 150.8ms\n",
      "Speed: 2.0ms preprocess, 150.8ms inference, 2.0ms postprocess per image at shape (1, 3, 480, 640)\n",
      "Results saved to \u001b[1mruns\\detect\\predict18\u001b[0m\n",
      "\n",
      "0: 480x640 2 persons, 1 bottle, 151.0ms\n",
      "Speed: 3.0ms preprocess, 151.0ms inference, 2.0ms postprocess per image at shape (1, 3, 480, 640)\n",
      "Results saved to \u001b[1mruns\\detect\\predict18\u001b[0m\n",
      "\n",
      "0: 480x640 1 person, 1 bottle, 1 cell phone, 165.6ms\n",
      "Speed: 3.0ms preprocess, 165.6ms inference, 2.0ms postprocess per image at shape (1, 3, 480, 640)\n",
      "Results saved to \u001b[1mruns\\detect\\predict18\u001b[0m\n",
      "\n",
      "0: 480x640 1 person, 162.0ms\n",
      "Speed: 3.0ms preprocess, 162.0ms inference, 2.0ms postprocess per image at shape (1, 3, 480, 640)\n",
      "Results saved to \u001b[1mruns\\detect\\predict18\u001b[0m\n"
     ]
    }
   ],
   "source": [
    "model = YOLO('yolov8n.pt')\n",
    "camera = cv2.VideoCapture(0)\n",
    "while True:\n",
    "    success, frame = camera.read()\n",
    "    if not success:\n",
    "        continue \n",
    "    results = model(source=frame, conf=0.4, save=True)\n",
    "    for result in results: \n",
    "        boxes = result.boxes.cpu().numpy()                         \n",
    "        for box in boxes:                                          \n",
    "            x = result.names[int(box.cls[0])]\n",
    "            engine = pyttsx3.init()\n",
    "            engine.say(x)\n",
    "            engine.runAndWait()\n",
    "    cv2.imshow(\"Frame\", frame)\n",
    "    if cv2.waitKey(1) & 0xFF == ord(\"q\"):\n",
    "        break"
   ]
  },
  {
   "cell_type": "code",
   "execution_count": null,
   "id": "1be7d66f",
   "metadata": {},
   "outputs": [],
   "source": []
  }
 ],
 "metadata": {
  "kernelspec": {
   "display_name": "Python 3 (ipykernel)",
   "language": "python",
   "name": "python3"
  },
  "language_info": {
   "codemirror_mode": {
    "name": "ipython",
    "version": 3
   },
   "file_extension": ".py",
   "mimetype": "text/x-python",
   "name": "python",
   "nbconvert_exporter": "python",
   "pygments_lexer": "ipython3",
   "version": "3.11.4"
  }
 },
 "nbformat": 4,
 "nbformat_minor": 5
}
